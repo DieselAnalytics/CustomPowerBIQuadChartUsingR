{
 "cells": [
  {
   "cell_type": "markdown",
   "metadata": {},
   "source": [
    "<center>\n",
    "\n",
    "<img src=\"./Pics/PowerBIDays.PNG\" alt=\"Drawing\" style=\"width: 300px;\"/>\n",
    "\n",
    "<center>"
   ]
  },
  {
   "cell_type": "markdown",
   "metadata": {},
   "source": [
    "# Creating Custom R Visualizations in Jupyter Lab using ggplot2\n",
    "\n",
    "### Prerequisites\n",
    "- Install Jupyter Lab\n",
    "    - Install Anaconda. Get installer [here](https://www.anaconda.com/download/).\n",
    "    - Install Jupyter Lab\n",
    "        - Open up the Anaconda Commmand Prompt\n",
    "        - Enter the following code snippet:\n",
    "\n",
    "        ```\n",
    "            conda install -c conda-forge jupyterlab \n",
    "        ``` <br>  \n",
    "- Instructions of how to install the R Kernel in Jupyter Notebook can be found in this [YouTube](https://www.youtube.com/watch?v=SXBxKe8sK6I) video.\n",
    "\n",
    "- [List](https://github.com/jupyter/jupyter/wiki/Jupyter-kernels) of available kernels for Jupyter Notebooks.\n",
    "\n",
    "- [Link](https://ipython.readthedocs.io/en/stable/interactive/magics.html) to documentation for iPython magics.\n",
    "\n",
    "- [Link](https://ipython.org/ipython-doc/2/config/extensions/rmagic.html) to documentation for R magics.\n",
    "\n",
    "- [Link](https://www.analyticsvidhya.com/blog/2018/05/starters-guide-jupyter-notebook/) to useful Jupyter Notebook tips. \n",
    "\n",
    "- [Link](http://maxmelnick.com/2016/04/19/python-beginner-tips-and-tricks.html) to Jupyter Notebook keyboard shortcuts.\n",
    "\n",
    "- [Link](https://www.datacamp.com/community/podcast/project-jupyter-interactive-computing) to a *Data Framed* podcast about Jupyter Lab and the direction of the Jupyter project."
   ]
  },
  {
   "cell_type": "markdown",
   "metadata": {},
   "source": [
    "\n",
    "### What is ggplot2\n",
    "\n",
    "The [ggplot2](https://ggplot2.tidyverse.org/) package is a R package used to create custom visualizations. It is based on the *layered grammar of graphics*. The ggplot2 package is very extensive and a thorough coverage can not be done in one session but here are some features I would like to point out:\n",
    "\n",
    "- **Aesthetic (aes)**: describes how the variables (columns) in your data are mapped to aesthetic attributes such as position, size, color, ect. The mapping can be done in the ggplot function or in a geom function. If done in the ggplot function it will be available to all layers if done in the geom it will only be available for just that layer.  \n",
    "    \n",
    "- **Layers**: The geometric objects (bars, points, boxplots, ect.) that you use to visualize your data. They are defined by 5 basic parts:\n",
    "    - Data\n",
    "    - Mapping\n",
    "    - Statistical Transformation\n",
    "    - Geometric Object\n",
    "    - Position Adjustment\n",
    " \n",
    "- **Themes**: Controls the non-data elements of your chart. Examples include things like chart title, background colors, font size, and ect.\n",
    "\n",
    "Now that we have a high level understand about the ggplot2 package lets take a quick look at the other packages we will be using. Here is a list of the packages we will be using in this script:\n",
    "\n",
    "- [tidyverse](https://www.tidyverse.org/)  The tidyverse package is a combination of packages that shares the same API design and they are designed to make doing data science easier. We will be using the readr package to read in data, the dplyr package to reshape the data, and the ggplot2 package to create the visualization.\n",
    "\n",
    "- [ggrepel](https://cran.r-project.org/web/packages/ggrepel/ggrepel.pdf):  Sometimes when you plot data your data labels overlap. The ggrepel package reposition overlapping labels so that they are easier to read.\n",
    "\n",
    "- [ggthemes](https://cran.r-project.org/web/packages/ggthemes/ggthemes.pdf):  This package contains themes that can be used to format your non-data elements based on pre-defined styles\n",
    "\n",
    "- [scales](https://cran.r-project.org/web/packages/scales/scales.pdf): This package has multiple uses but we will be using it to rescale our data using the *rescale* function\n",
    "\n",
    "- [stringi](https://cran.r-project.org/web/packages/stringi/stringi.pdf): The stringi package contains many functions that you can use for string manipulation"
   ]
  },
  {
   "cell_type": "markdown",
   "metadata": {},
   "source": [
    "I will point out where these packages are being used throughout the talk.\n",
    "\n",
    "When we pass our data to R from Power BI our data needs to be in the proper shape for our visualization. We need to perform a test to make sure are data is in the right test and if it is not we need to handle it by returning a blank graph. Below is a template that I use to do this."
   ]
  },
  {
   "cell_type": "markdown",
   "metadata": {},
   "source": [
    "### Template for a custom R visual in Power BI\n",
    "\n",
    "```R\n",
    "        if (< dataset test code >) {\n",
    "\n",
    "            # <Put code to generate graph here>\n",
    "            \n",
    "        } else {\n",
    "    \n",
    "            p <- ggplot(dataset, aes(x = '<my x variable>', y = '<my y variable>')) +\n",
    "                 geom_blank() +\n",
    "                 scale_x_continuous(\n",
    "                      labels = NULL\n",
    "                    , breaks = NULL\n",
    "                 ) +\n",
    "                 scale_y_continuous(\n",
    "                      labels = NULL\n",
    "                    , breaks = NULL\n",
    "                 ) +\n",
    "                 labs(x = NULL, y = NULL) +\n",
    "                 theme_classic()\n",
    "            p\n",
    "        }\n",
    "```"
   ]
  },
  {
   "cell_type": "markdown",
   "metadata": {},
   "source": [
    "Load the packages that we will use to build the visualization. "
   ]
  },
  {
   "cell_type": "code",
   "execution_count": 43,
   "metadata": {},
   "outputs": [],
   "source": [
    "library(tidyverse)\n",
    "library(ggrepel)\n",
    "library(ggthemes)\n",
    "library(scales)\n",
    "library(stringi)\n",
    "library(repr)"
   ]
  },
  {
   "cell_type": "markdown",
   "metadata": {},
   "source": [
    "The code below reads in our data from a csv file to a R data frame."
   ]
  },
  {
   "cell_type": "code",
   "execution_count": 44,
   "metadata": {},
   "outputs": [
    {
     "name": "stderr",
     "output_type": "stream",
     "text": [
      "Parsed with column specification:\n",
      "cols(\n",
      "  Index = col_integer(),\n",
      "  Player = col_character(),\n",
      "  Year = col_integer(),\n",
      "  `Position Group` = col_character(),\n",
      "  Position = col_character(),\n",
      "  BenchReps = col_integer(),\n",
      "  `40YD` = col_double()\n",
      ")\n"
     ]
    },
    {
     "data": {
      "text/html": [
       "<table>\n",
       "<thead><tr><th scope=col>Index</th><th scope=col>Player</th><th scope=col>Year</th><th scope=col>Position Group</th><th scope=col>Position</th><th scope=col>BenchReps</th><th scope=col>40YD</th></tr></thead>\n",
       "<tbody>\n",
       "\t<tr><td>191             </td><td>Marcell Ateman  </td><td>2018            </td><td>Wide Receiver   </td><td>WR              </td><td>13              </td><td>4.62            </td></tr>\n",
       "\t<tr><td>182             </td><td>Braxton Berrios </td><td>2018            </td><td>Wide Receiver   </td><td>WR              </td><td>11              </td><td>0.00            </td></tr>\n",
       "\t<tr><td>174             </td><td>Deontay Burnett </td><td>2018            </td><td>Wide Receiver   </td><td>WR              </td><td> 0              </td><td>0.00            </td></tr>\n",
       "\t<tr><td>172             </td><td>Deon Cain       </td><td>2018            </td><td>Wide Receiver   </td><td>WR              </td><td>11              </td><td>4.43            </td></tr>\n",
       "\t<tr><td>171             </td><td>Antonio Callaway</td><td>2018            </td><td>Wide Receiver   </td><td>WR              </td><td> 0              </td><td>4.41            </td></tr>\n",
       "\t<tr><td>170             </td><td>Dylan Cantrell  </td><td>2018            </td><td>Wide Receiver   </td><td>WR              </td><td>18              </td><td>4.59            </td></tr>\n",
       "</tbody>\n",
       "</table>\n"
      ],
      "text/latex": [
       "\\begin{tabular}{r|lllllll}\n",
       " Index & Player & Year & Position Group & Position & BenchReps & 40YD\\\\\n",
       "\\hline\n",
       "\t 191              & Marcell Ateman   & 2018             & Wide Receiver    & WR               & 13               & 4.62            \\\\\n",
       "\t 182              & Braxton Berrios  & 2018             & Wide Receiver    & WR               & 11               & 0.00            \\\\\n",
       "\t 174              & Deontay Burnett  & 2018             & Wide Receiver    & WR               &  0               & 0.00            \\\\\n",
       "\t 172              & Deon Cain        & 2018             & Wide Receiver    & WR               & 11               & 4.43            \\\\\n",
       "\t 171              & Antonio Callaway & 2018             & Wide Receiver    & WR               &  0               & 4.41            \\\\\n",
       "\t 170              & Dylan Cantrell   & 2018             & Wide Receiver    & WR               & 18               & 4.59            \\\\\n",
       "\\end{tabular}\n"
      ],
      "text/markdown": [
       "\n",
       "Index | Player | Year | Position Group | Position | BenchReps | 40YD | \n",
       "|---|---|---|---|---|---|\n",
       "| 191              | Marcell Ateman   | 2018             | Wide Receiver    | WR               | 13               | 4.62             | \n",
       "| 182              | Braxton Berrios  | 2018             | Wide Receiver    | WR               | 11               | 0.00             | \n",
       "| 174              | Deontay Burnett  | 2018             | Wide Receiver    | WR               |  0               | 0.00             | \n",
       "| 172              | Deon Cain        | 2018             | Wide Receiver    | WR               | 11               | 4.43             | \n",
       "| 171              | Antonio Callaway | 2018             | Wide Receiver    | WR               |  0               | 4.41             | \n",
       "| 170              | Dylan Cantrell   | 2018             | Wide Receiver    | WR               | 18               | 4.59             | \n",
       "\n",
       "\n"
      ],
      "text/plain": [
       "  Index Player           Year Position Group Position BenchReps 40YD\n",
       "1 191   Marcell Ateman   2018 Wide Receiver  WR       13        4.62\n",
       "2 182   Braxton Berrios  2018 Wide Receiver  WR       11        0.00\n",
       "3 174   Deontay Burnett  2018 Wide Receiver  WR        0        0.00\n",
       "4 172   Deon Cain        2018 Wide Receiver  WR       11        4.43\n",
       "5 171   Antonio Callaway 2018 Wide Receiver  WR        0        4.41\n",
       "6 170   Dylan Cantrell   2018 Wide Receiver  WR       18        4.59"
      ]
     },
     "metadata": {},
     "output_type": "display_data"
    }
   ],
   "source": [
    "filepath <- \"./Data/dataset.csv\"\n",
    "dataset <- read_csv(filepath)\n",
    "head(dataset)"
   ]
  },
  {
   "cell_type": "markdown",
   "metadata": {},
   "source": [
    "We are developing a quad chart for the NFL prospects based on the bench press and 40 yard dash. In order to do so the players in the quard chart must have bench press and 40 yard information. That information also needs to be on the same scale. The code below uses the [dplyr](https://dplyr.tidyverse.org/) package from [tidyverse](https://www.tidyverse.org/) to remove unwanted records and the [scales](https://cran.r-project.org/web/packages/scales/scales.pdf) package to rescale our data."
   ]
  },
  {
   "cell_type": "code",
   "execution_count": 45,
   "metadata": {},
   "outputs": [
    {
     "data": {
      "text/html": [
       "<table>\n",
       "<thead><tr><th scope=col>Index</th><th scope=col>Player</th><th scope=col>Year</th><th scope=col>Position Group</th><th scope=col>Position</th><th scope=col>BenchReps</th><th scope=col>40YD</th><th scope=col>Scaled.40YD</th><th scope=col>Scaled.BenchReps</th></tr></thead>\n",
       "<tbody>\n",
       "\t<tr><td>191           </td><td>Marcell Ateman</td><td>2018          </td><td>Wide Receiver </td><td>WR            </td><td>13            </td><td>4.62          </td><td> -8.2         </td><td>-1.7          </td></tr>\n",
       "\t<tr><td>172           </td><td>Deon Cain     </td><td>2018          </td><td>Wide Receiver </td><td>WR            </td><td>11            </td><td>4.43          </td><td>  9.1         </td><td>-5.0          </td></tr>\n",
       "\t<tr><td>170           </td><td>Dylan Cantrell</td><td>2018          </td><td>Wide Receiver </td><td>WR            </td><td>18            </td><td>4.59          </td><td> -5.5         </td><td> 6.7          </td></tr>\n",
       "\t<tr><td>162           </td><td>Simmie Cobbs  </td><td>2018          </td><td>Wide Receiver </td><td>WR            </td><td>11            </td><td>4.64          </td><td>-10.0         </td><td>-5.0          </td></tr>\n",
       "\t<tr><td>159           </td><td>Keke Coutee   </td><td>2018          </td><td>Wide Receiver </td><td>WR            </td><td>14            </td><td>4.43          </td><td>  9.1         </td><td> 0.0          </td></tr>\n",
       "\t<tr><td>139           </td><td>Michael Gallup</td><td>2018          </td><td>Wide Receiver </td><td>WR            </td><td>10            </td><td>4.51          </td><td>  1.8         </td><td>-6.7          </td></tr>\n",
       "</tbody>\n",
       "</table>\n"
      ],
      "text/latex": [
       "\\begin{tabular}{r|lllllllll}\n",
       " Index & Player & Year & Position Group & Position & BenchReps & 40YD & Scaled.40YD & Scaled.BenchReps\\\\\n",
       "\\hline\n",
       "\t 191            & Marcell Ateman & 2018           & Wide Receiver  & WR             & 13             & 4.62           &  -8.2          & -1.7          \\\\\n",
       "\t 172            & Deon Cain      & 2018           & Wide Receiver  & WR             & 11             & 4.43           &   9.1          & -5.0          \\\\\n",
       "\t 170            & Dylan Cantrell & 2018           & Wide Receiver  & WR             & 18             & 4.59           &  -5.5          &  6.7          \\\\\n",
       "\t 162            & Simmie Cobbs   & 2018           & Wide Receiver  & WR             & 11             & 4.64           & -10.0          & -5.0          \\\\\n",
       "\t 159            & Keke Coutee    & 2018           & Wide Receiver  & WR             & 14             & 4.43           &   9.1          &  0.0          \\\\\n",
       "\t 139            & Michael Gallup & 2018           & Wide Receiver  & WR             & 10             & 4.51           &   1.8          & -6.7          \\\\\n",
       "\\end{tabular}\n"
      ],
      "text/markdown": [
       "\n",
       "Index | Player | Year | Position Group | Position | BenchReps | 40YD | Scaled.40YD | Scaled.BenchReps | \n",
       "|---|---|---|---|---|---|\n",
       "| 191            | Marcell Ateman | 2018           | Wide Receiver  | WR             | 13             | 4.62           |  -8.2          | -1.7           | \n",
       "| 172            | Deon Cain      | 2018           | Wide Receiver  | WR             | 11             | 4.43           |   9.1          | -5.0           | \n",
       "| 170            | Dylan Cantrell | 2018           | Wide Receiver  | WR             | 18             | 4.59           |  -5.5          |  6.7           | \n",
       "| 162            | Simmie Cobbs   | 2018           | Wide Receiver  | WR             | 11             | 4.64           | -10.0          | -5.0           | \n",
       "| 159            | Keke Coutee    | 2018           | Wide Receiver  | WR             | 14             | 4.43           |   9.1          |  0.0           | \n",
       "| 139            | Michael Gallup | 2018           | Wide Receiver  | WR             | 10             | 4.51           |   1.8          | -6.7           | \n",
       "\n",
       "\n"
      ],
      "text/plain": [
       "  Index Player         Year Position Group Position BenchReps 40YD Scaled.40YD\n",
       "1 191   Marcell Ateman 2018 Wide Receiver  WR       13        4.62  -8.2      \n",
       "2 172   Deon Cain      2018 Wide Receiver  WR       11        4.43   9.1      \n",
       "3 170   Dylan Cantrell 2018 Wide Receiver  WR       18        4.59  -5.5      \n",
       "4 162   Simmie Cobbs   2018 Wide Receiver  WR       11        4.64 -10.0      \n",
       "5 159   Keke Coutee    2018 Wide Receiver  WR       14        4.43   9.1      \n",
       "6 139   Michael Gallup 2018 Wide Receiver  WR       10        4.51   1.8      \n",
       "  Scaled.BenchReps\n",
       "1 -1.7            \n",
       "2 -5.0            \n",
       "3  6.7            \n",
       "4 -5.0            \n",
       "5  0.0            \n",
       "6 -6.7            "
      ]
     },
     "metadata": {},
     "output_type": "display_data"
    }
   ],
   "source": [
    "graph_data <-\n",
    "    dataset %>%\n",
    "    filter(`40YD` != 0 & BenchReps != 0) %>%\n",
    "    mutate(\n",
    "        Scaled.40YD = \n",
    "            round(rescale(`40YD` * -1, to = c(-10, 10)), 1)\n",
    "        ,Scaled.BenchReps = \n",
    "            round(rescale(BenchReps, to = c(-10, 10)), 1)\n",
    "    )\n",
    "head(graph_data)"
   ]
  },
  {
   "cell_type": "markdown",
   "metadata": {},
   "source": [
    "We know that our data is in the correct shape so now we can start building our visualization. We will do so in the same manner that Bob Ross used to do when he did his paintings. We will start with a basic quad chart then add layers until we get to the chart that we want."
   ]
  },
  {
   "cell_type": "markdown",
   "metadata": {},
   "source": [
    "![Bob Ross](./Pics/Bob_at_Easel.jpg)"
   ]
  },
  {
   "cell_type": "markdown",
   "metadata": {},
   "source": [
    "The code below produces the basis of our quad chart"
   ]
  },
  {
   "cell_type": "code",
   "execution_count": 46,
   "metadata": {},
   "outputs": [
    {
     "data": {},
     "metadata": {},
     "output_type": "display_data"
    },
    {
     "data": {
      "image/png": "[encoded data removed]",
      "text/plain": [
       "plot without title"
      ]
     },
     "metadata": {},
     "output_type": "display_data",
     "source": "R display func"
    }
   ],
   "source": [
    "options(repr.plot.width=7, repr.plot.height=4)\n",
    "p <- ggplot(graph_data, aes(x = Scaled.BenchReps, y = Scaled.40YD, col = Position)) +\n",
    "     geom_point() +\n",
    "     geom_label_repel(aes(label = Player), size = 4, show.legend = FALSE) +\n",
    "     geom_hline(yintercept = 0) +\n",
    "     geom_vline(xintercept = 0)\n",
    "\n",
    "p"
   ]
  },
  {
   "cell_type": "markdown",
   "metadata": {},
   "source": [
    "The code below draws a rectangular border for our labels and fills it with the color \"grey80\". You can go [here](http://sape.inf.usi.ch/quick-reference/ggplot2/colour) to get a list of colors available in ggplot2."
   ]
  },
  {
   "cell_type": "code",
   "execution_count": 47,
   "metadata": {},
   "outputs": [
    {
     "data": {},
     "metadata": {},
     "output_type": "display_data"
    },
    {
     "data": {
      "image/png": "[encoded data removed]",
      "text/plain": [
       "plot without title"
      ]
     },
     "metadata": {},
     "output_type": "display_data",
     "source": "R display func"
    }
   ],
   "source": [
    "options(repr.plot.width=7, repr.plot.height=4)\n",
    "p <- p +\n",
    "     annotate(\"rect\", xmin = -3.5, xmax = -6.5, ymin = -11.5, ymax = -10.5, fill = \"grey80\") +\n",
    "     annotate(\"rect\", xmin = -3.5, xmax = -6.5, ymin = 10.5, ymax = 11.5, fill = \"grey80\") +\n",
    "     annotate(\"rect\", xmin = 3.5, xmax = 6.5, ymin = -11.5, ymax = -10.5, fill = \"grey80\") +\n",
    "     annotate(\"rect\", xmin = 3.5, xmax = 6.5, ymin = 10.5, ymax = 11.5, fill = \"grey80\")\n",
    "p"
   ]
  },
  {
   "cell_type": "markdown",
   "metadata": {},
   "source": [
    "Code below labels our quadrants"
   ]
  },
  {
   "cell_type": "code",
   "execution_count": 48,
   "metadata": {},
   "outputs": [
    {
     "data": {},
     "metadata": {},
     "output_type": "display_data"
    },
    {
     "data": {
      "image/png": "[encoded data removed]",
      "text/plain": [
       "plot without title"
      ]
     },
     "metadata": {},
     "output_type": "display_data",
     "source": "R display func"
    }
   ],
   "source": [
    "options(repr.plot.width=7, repr.plot.height=4)\n",
    "p <- p +\n",
    "     # quad labels\n",
    "     annotate(\"text\", x = -5, y = -11, label = \"Average\", color = \"white\", size = 6) +\n",
    "     annotate(\"text\", x = -5, y = 11, label = \"Fast\", color = \"white\", size = 6) +\n",
    "     annotate(\"text\", x = 5, y = -11, label = \"Strong\", color = \"white\", size = 6) +\n",
    "     annotate(\"text\", x = 5, y = 11, label = \"Beast Mode\", color = \"white\", size = 6)\n",
    "p"
   ]
  },
  {
   "cell_type": "markdown",
   "metadata": {},
   "source": [
    "We apply formatting to our chart based on the principals developed by the renowned data visualization expert, [Edward Tufte](https://bit.ly/2s0WGc9)."
   ]
  },
  {
   "cell_type": "code",
   "execution_count": 49,
   "metadata": {},
   "outputs": [
    {
     "data": {},
     "metadata": {},
     "output_type": "display_data"
    },
    {
     "data": {
      "image/png": "[encoded data removed]",
      "text/plain": [
       "plot without title"
      ]
     },
     "metadata": {},
     "output_type": "display_data",
     "source": "R display func"
    }
   ],
   "source": [
    "options(repr.plot.width=7, repr.plot.height=4)\n",
    "p <- p +\n",
    "     theme_tufte()\n",
    "p"
   ]
  },
  {
   "cell_type": "markdown",
   "metadata": {},
   "source": [
    "We color quadrants 2 & 3"
   ]
  },
  {
   "cell_type": "code",
   "execution_count": 50,
   "metadata": {},
   "outputs": [
    {
     "data": {},
     "metadata": {},
     "output_type": "display_data"
    },
    {
     "data": {
      "image/png": "[encoded data removed]",
      "text/plain": [
       "plot without title"
      ]
     },
     "metadata": {},
     "output_type": "display_data",
     "source": "R display func"
    }
   ],
   "source": [
    "options(repr.plot.width=7, repr.plot.height=4)\n",
    "p <- p +\n",
    "     annotate(\"rect\", xmin = -Inf, xmax = 0.0, ymin = -Inf, ymax = 0, alpha = 0.1, fill = \"lightgrey\") +\n",
    "     annotate(\"rect\", xmin = 0.0, xmax = Inf, ymin = 0.0, ymax = Inf, alpha = 0.1, fill = \"lightgrey\")\n",
    "p"
   ]
  },
  {
   "cell_type": "markdown",
   "metadata": {},
   "source": [
    "We now have the graph built. Now we need to add some dynamic information to our graph to give the end user important information. We will add a dynamic title, dynamic subtitle, and a caption that will give the end user the source of our data set. Before we start building the dynamic elements let's take a look at our data set to see what information we have available to build our dynamic elements."
   ]
  },
  {
   "cell_type": "code",
   "execution_count": 51,
   "metadata": {},
   "outputs": [
    {
     "data": {
      "text/html": [
       "<table>\n",
       "<thead><tr><th scope=col>Index</th><th scope=col>Player</th><th scope=col>Year</th><th scope=col>Position Group</th><th scope=col>Position</th><th scope=col>BenchReps</th><th scope=col>40YD</th></tr></thead>\n",
       "<tbody>\n",
       "\t<tr><td>191             </td><td>Marcell Ateman  </td><td>2018            </td><td>Wide Receiver   </td><td>WR              </td><td>13              </td><td>4.62            </td></tr>\n",
       "\t<tr><td>182             </td><td>Braxton Berrios </td><td>2018            </td><td>Wide Receiver   </td><td>WR              </td><td>11              </td><td>0.00            </td></tr>\n",
       "\t<tr><td>174             </td><td>Deontay Burnett </td><td>2018            </td><td>Wide Receiver   </td><td>WR              </td><td> 0              </td><td>0.00            </td></tr>\n",
       "\t<tr><td>172             </td><td>Deon Cain       </td><td>2018            </td><td>Wide Receiver   </td><td>WR              </td><td>11              </td><td>4.43            </td></tr>\n",
       "\t<tr><td>171             </td><td>Antonio Callaway</td><td>2018            </td><td>Wide Receiver   </td><td>WR              </td><td> 0              </td><td>4.41            </td></tr>\n",
       "\t<tr><td>170             </td><td>Dylan Cantrell  </td><td>2018            </td><td>Wide Receiver   </td><td>WR              </td><td>18              </td><td>4.59            </td></tr>\n",
       "</tbody>\n",
       "</table>\n"
      ],
      "text/latex": [
       "\\begin{tabular}{r|lllllll}\n",
       " Index & Player & Year & Position Group & Position & BenchReps & 40YD\\\\\n",
       "\\hline\n",
       "\t 191              & Marcell Ateman   & 2018             & Wide Receiver    & WR               & 13               & 4.62            \\\\\n",
       "\t 182              & Braxton Berrios  & 2018             & Wide Receiver    & WR               & 11               & 0.00            \\\\\n",
       "\t 174              & Deontay Burnett  & 2018             & Wide Receiver    & WR               &  0               & 0.00            \\\\\n",
       "\t 172              & Deon Cain        & 2018             & Wide Receiver    & WR               & 11               & 4.43            \\\\\n",
       "\t 171              & Antonio Callaway & 2018             & Wide Receiver    & WR               &  0               & 4.41            \\\\\n",
       "\t 170              & Dylan Cantrell   & 2018             & Wide Receiver    & WR               & 18               & 4.59            \\\\\n",
       "\\end{tabular}\n"
      ],
      "text/markdown": [
       "\n",
       "Index | Player | Year | Position Group | Position | BenchReps | 40YD | \n",
       "|---|---|---|---|---|---|\n",
       "| 191              | Marcell Ateman   | 2018             | Wide Receiver    | WR               | 13               | 4.62             | \n",
       "| 182              | Braxton Berrios  | 2018             | Wide Receiver    | WR               | 11               | 0.00             | \n",
       "| 174              | Deontay Burnett  | 2018             | Wide Receiver    | WR               |  0               | 0.00             | \n",
       "| 172              | Deon Cain        | 2018             | Wide Receiver    | WR               | 11               | 4.43             | \n",
       "| 171              | Antonio Callaway | 2018             | Wide Receiver    | WR               |  0               | 4.41             | \n",
       "| 170              | Dylan Cantrell   | 2018             | Wide Receiver    | WR               | 18               | 4.59             | \n",
       "\n",
       "\n"
      ],
      "text/plain": [
       "  Index Player           Year Position Group Position BenchReps 40YD\n",
       "1 191   Marcell Ateman   2018 Wide Receiver  WR       13        4.62\n",
       "2 182   Braxton Berrios  2018 Wide Receiver  WR       11        0.00\n",
       "3 174   Deontay Burnett  2018 Wide Receiver  WR        0        0.00\n",
       "4 172   Deon Cain        2018 Wide Receiver  WR       11        4.43\n",
       "5 171   Antonio Callaway 2018 Wide Receiver  WR        0        4.41\n",
       "6 170   Dylan Cantrell   2018 Wide Receiver  WR       18        4.59"
      ]
     },
     "metadata": {},
     "output_type": "display_data"
    }
   ],
   "source": [
    "head(dataset)"
   ]
  },
  {
   "cell_type": "markdown",
   "metadata": {},
   "source": [
    "The *bquote* function in R allows you to combine strings with mathematical equations. I used that feature as a hack to append the arrows to the axis titles."
   ]
  },
  {
   "cell_type": "code",
   "execution_count": 52,
   "metadata": {},
   "outputs": [
    {
     "data": {},
     "metadata": {},
     "output_type": "display_data"
    },
    {
     "data": {
      "image/png": "[encoded data removed]",
      "text/plain": [
       "plot without title"
      ]
     },
     "metadata": {},
     "output_type": "display_data",
     "source": "R display func"
    }
   ],
   "source": [
    "options(repr.plot.width=7, repr.plot.height=4)\n",
    "p <- p +\n",
    "     xlab(bquote(\"Strength\" ~ symbol('\\256'))) +\n",
    "     ylab(bquote(\"Speed\" ~ symbol('\\256')))\n",
    "p"
   ]
  },
  {
   "cell_type": "markdown",
   "metadata": {},
   "source": [
    "Dynamically builds our chart title"
   ]
  },
  {
   "cell_type": "code",
   "execution_count": 53,
   "metadata": {},
   "outputs": [
    {
     "data": {
      "text/html": [
       "'2018 Combine Quad Chart for Wide Receiver'"
      ],
      "text/latex": [
       "'2018 Combine Quad Chart for Wide Receiver'"
      ],
      "text/markdown": [
       "'2018 Combine Quad Chart for Wide Receiver'"
      ],
      "text/plain": [
       "[1] \"2018 Combine Quad Chart for Wide Receiver\""
      ]
     },
     "metadata": {},
     "output_type": "display_data"
    }
   ],
   "source": [
    "selected_position <- unique(dataset$`Position Group`)\n",
    "selected_year <- unique(dataset$Year)\n",
    "chart.title <- paste(selected_year, \"Combine Quad Chart for\", selected_position, sep = \" \")\n",
    "chart.title"
   ]
  },
  {
   "cell_type": "markdown",
   "metadata": {},
   "source": [
    "Our dynamic subtitle will show up to 7 bullet points. The categories are:\n",
    "- Players that did not run the 40 yard dash\n",
    "- Players that did not perform the bench press\n",
    "- Players that did not perform the bench press and 40 yard dash\n",
    "- Players that did the best in the bench press\n",
    "- Players that did the worse in the bench press\n",
    "- Players that did the best in the 40 yard dash\n",
    "- Players that did the worse in the 40 yard dash\n",
    "\n",
    "Now let's build our dynamic titles!"
   ]
  },
  {
   "cell_type": "markdown",
   "metadata": {},
   "source": [
    "Code below subsets the dataframe to only include the *Player* variable that did not run the 40 but did the bench press"
   ]
  },
  {
   "cell_type": "code",
   "execution_count": 54,
   "metadata": {},
   "outputs": [
    {
     "data": {
      "text/html": [
       "<ol class=list-inline>\n",
       "\t<li>'Braxton Berrios'</li>\n",
       "\t<li>'Anthony Miller'</li>\n",
       "</ol>\n"
      ],
      "text/latex": [
       "\\begin{enumerate*}\n",
       "\\item 'Braxton Berrios'\n",
       "\\item 'Anthony Miller'\n",
       "\\end{enumerate*}\n"
      ],
      "text/markdown": [
       "1. 'Braxton Berrios'\n",
       "2. 'Anthony Miller'\n",
       "\n",
       "\n"
      ],
      "text/plain": [
       "[1] \"Braxton Berrios\" \"Anthony Miller\" "
      ]
     },
     "metadata": {},
     "output_type": "display_data"
    }
   ],
   "source": [
    "No40YDSubtitle <-\n",
    "    dataset$Player[which(dataset$`40YD` == 0 & dataset$BenchReps != 0)]\n",
    "No40YDSubtitle"
   ]
  },
  {
   "cell_type": "markdown",
   "metadata": {},
   "source": [
    "Code below converts the variable fom above to a character vector"
   ]
  },
  {
   "cell_type": "code",
   "execution_count": 55,
   "metadata": {},
   "outputs": [
    {
     "data": {
      "text/html": [
       "<ol class=list-inline>\n",
       "\t<li>'Braxton Berrios'</li>\n",
       "\t<li>'Anthony Miller'</li>\n",
       "</ol>\n"
      ],
      "text/latex": [
       "\\begin{enumerate*}\n",
       "\\item 'Braxton Berrios'\n",
       "\\item 'Anthony Miller'\n",
       "\\end{enumerate*}\n"
      ],
      "text/markdown": [
       "1. 'Braxton Berrios'\n",
       "2. 'Anthony Miller'\n",
       "\n",
       "\n"
      ],
      "text/plain": [
       "[1] \"Braxton Berrios\" \"Anthony Miller\" "
      ]
     },
     "metadata": {},
     "output_type": "display_data"
    }
   ],
   "source": [
    "No40YDSubtitle <- dataset$Player[which(dataset$`40YD` == 0 & dataset$BenchReps != 0)]\n",
    "No40YDSubtitle"
   ]
  },
  {
   "cell_type": "markdown",
   "metadata": {},
   "source": [
    "Code below converts the variable from above from a character vector to a string with each element separated by a *comma*"
   ]
  },
  {
   "cell_type": "code",
   "execution_count": 56,
   "metadata": {},
   "outputs": [
    {
     "data": {
      "text/html": [
       "'Braxton Berrios, Anthony Miller'"
      ],
      "text/latex": [
       "'Braxton Berrios, Anthony Miller'"
      ],
      "text/markdown": [
       "'Braxton Berrios, Anthony Miller'"
      ],
      "text/plain": [
       "[1] \"Braxton Berrios, Anthony Miller\""
      ]
     },
     "metadata": {},
     "output_type": "display_data"
    }
   ],
   "source": [
    "No40YDSubtitle <- \n",
    "    dataset$Player[which(dataset$`40YD` == 0 & dataset$BenchReps != 0)] %>%\n",
    "    paste(collapse = \", \")\n",
    "No40YDSubtitle"
   ]
  },
  {
   "cell_type": "markdown",
   "metadata": {},
   "source": [
    "Code below replaces the last comma in the string with *\", and\"*"
   ]
  },
  {
   "cell_type": "code",
   "execution_count": 57,
   "metadata": {},
   "outputs": [
    {
     "data": {
      "text/html": [
       "'Braxton Berrios, and Anthony Miller'"
      ],
      "text/latex": [
       "'Braxton Berrios, and Anthony Miller'"
      ],
      "text/markdown": [
       "'Braxton Berrios, and Anthony Miller'"
      ],
      "text/plain": [
       "[1] \"Braxton Berrios, and Anthony Miller\""
      ]
     },
     "metadata": {},
     "output_type": "display_data"
    }
   ],
   "source": [
    "No40YDSubtitle <- \n",
    "    dataset$Player[which(dataset$`40YD` == 0 & dataset$BenchReps != 0)] %>%\n",
    "    paste(collapse = \", \") %>%\n",
    "    stri_replace_last_fixed(\", \", \", and \")\n",
    "No40YDSubtitle"
   ]
  },
  {
   "cell_type": "markdown",
   "metadata": {},
   "source": [
    "The code below uses the paste0 function to append a \"- \" to the beginning of the string from the cell above"
   ]
  },
  {
   "cell_type": "code",
   "execution_count": 58,
   "metadata": {},
   "outputs": [
    {
     "data": {
      "text/html": [
       "'- Braxton Berrios, and Anthony Miller did not run the 40YD.'"
      ],
      "text/latex": [
       "'- Braxton Berrios, and Anthony Miller did not run the 40YD.'"
      ],
      "text/markdown": [
       "'- Braxton Berrios, and Anthony Miller did not run the 40YD.'"
      ],
      "text/plain": [
       "[1] \"- Braxton Berrios, and Anthony Miller did not run the 40YD.\""
      ]
     },
     "metadata": {},
     "output_type": "display_data"
    }
   ],
   "source": [
    "No40YDSubtitle <- \n",
    "    dataset$Player[which(dataset$`40YD` == 0 & dataset$BenchReps != 0)] %>%\n",
    "    paste(collapse = \", \") %>%\n",
    "    stri_replace_last_fixed(\", \", \", and \") %>%\n",
    "    paste0(\"- \", .,\" did not run the 40YD.\")\n",
    "No40YDSubtitle"
   ]
  },
  {
   "cell_type": "markdown",
   "metadata": {},
   "source": [
    "The code below passes the results from what was created in the cell above to the str_wrap function. The str_wrap function allows you to control the width of the string via the ***width*** argument and control the indentation of all subsequent lines via the ***extent*** argument."
   ]
  },
  {
   "cell_type": "markdown",
   "metadata": {},
   "source": [
    "Sets a variable that tells us if there are athletes in this category. Will be used later on"
   ]
  },
  {
   "cell_type": "code",
   "execution_count": 59,
   "metadata": {},
   "outputs": [],
   "source": [
    "No40YDSubtitleHaveAthletes <-\n",
    "    dataset$Player[which(dataset$`40YD` == 0 & dataset$BenchReps != 0)] %>%\n",
    "    length() %>%\n",
    "    {ifelse(. > 0, \"Y\", \"N\")}"
   ]
  },
  {
   "cell_type": "markdown",
   "metadata": {},
   "source": [
    "The code below does the same for the other \"No\" categories and creates variables that have the counts for each category. The ****SubtitleHaveAthletes*** variables will be used later to help determine if we need to add a subtitle for that category to our chart."
   ]
  },
  {
   "cell_type": "code",
   "execution_count": 60,
   "metadata": {},
   "outputs": [],
   "source": [
    "NoBenchPressSubtitle <- \n",
    "    dataset$Player[which(dataset$`40YD` != 0 & dataset$BenchReps == 0)] %>%\n",
    "    paste(collapse = \", \") %>%\n",
    "    stri_replace_last_fixed(\", \", \", and \") %>%\n",
    "    paste0(\"- \", .,\" did not participate in the benchpress.\")\n",
    "\n",
    "NoBenchPressSubtitleHaveAthletes <- \n",
    "    dataset$Player[which(dataset$`40YD` != 0 & dataset$BenchReps == 0)] %>%\n",
    "    length() %>%\n",
    "    {ifelse(. > 0, \"Y\", \"N\")}\n",
    "\n",
    "No40YDAndBenchPressSubtitle <- \n",
    "    dataset$Player[which(dataset$`40YD` == 0 & dataset$BenchReps == 0)] %>%\n",
    "    paste(collapse = \", \") %>%\n",
    "    stri_replace_last_fixed(\", \", \", and \") %>%\n",
    "    paste0(\"- \", .,\" did not participate in either the 40YD or in the benchpress.\")\n",
    "\n",
    "No40YDAndBenchPressSubtitleHaveAthletes <- \n",
    "    dataset$Player[which(dataset$`40YD` == 0 & dataset$BenchReps == 0)] %>%\n",
    "    length() %>%\n",
    "    {ifelse(. > 0, \"Y\", \"N\")}"
   ]
  },
  {
   "cell_type": "markdown",
   "metadata": {},
   "source": [
    "The code below shows what the output looks like"
   ]
  },
  {
   "cell_type": "code",
   "execution_count": 61,
   "metadata": {},
   "outputs": [
    {
     "data": {
      "text/html": [
       "'- Braxton Berrios, and Anthony Miller did not run the 40YD.'"
      ],
      "text/latex": [
       "'- Braxton Berrios, and Anthony Miller did not run the 40YD.'"
      ],
      "text/markdown": [
       "'- Braxton Berrios, and Anthony Miller did not run the 40YD.'"
      ],
      "text/plain": [
       "[1] \"- Braxton Berrios, and Anthony Miller did not run the 40YD.\""
      ]
     },
     "metadata": {},
     "output_type": "display_data"
    },
    {
     "data": {
      "text/html": [
       "'- Antonio Callaway, Auden Tate, and Javon Wims did not participate in the benchpress.'"
      ],
      "text/latex": [
       "'- Antonio Callaway, Auden Tate, and Javon Wims did not participate in the benchpress.'"
      ],
      "text/markdown": [
       "'- Antonio Callaway, Auden Tate, and Javon Wims did not participate in the benchpress.'"
      ],
      "text/plain": [
       "[1] \"- Antonio Callaway, Auden Tate, and Javon Wims did not participate in the benchpress.\""
      ]
     },
     "metadata": {},
     "output_type": "display_data"
    },
    {
     "data": {
      "text/html": [
       "'- Deontay Burnett, Daesean Hamilton, Dante Pettis, and Cam Phillips did not participate in either the 40YD or in the benchpress.'"
      ],
      "text/latex": [
       "'- Deontay Burnett, Daesean Hamilton, Dante Pettis, and Cam Phillips did not participate in either the 40YD or in the benchpress.'"
      ],
      "text/markdown": [
       "'- Deontay Burnett, Daesean Hamilton, Dante Pettis, and Cam Phillips did not participate in either the 40YD or in the benchpress.'"
      ],
      "text/plain": [
       "[1] \"- Deontay Burnett, Daesean Hamilton, Dante Pettis, and Cam Phillips did not participate in either the 40YD or in the benchpress.\""
      ]
     },
     "metadata": {},
     "output_type": "display_data"
    }
   ],
   "source": [
    "No40YDSubtitle\n",
    "NoBenchPressSubtitle\n",
    "No40YDAndBenchPressSubtitle"
   ]
  },
  {
   "cell_type": "markdown",
   "metadata": {},
   "source": [
    "The code cells below builds the subtitles for best benchpress, worst bench press, best 40 yard dash, and worst 40 yard dash. We have a variable that represents the best benchpress, worst benchpress, best 40yd, and worst 40yd. We also have the ****Athletes_cv*** variables to list the athletes that are in each category."
   ]
  },
  {
   "cell_type": "code",
   "execution_count": 62,
   "metadata": {},
   "outputs": [],
   "source": [
    "    WorstBench <- min(dataset$BenchReps[dataset$BenchReps != 0])    \n",
    "\n",
    "    WorstBenchAthletes_cv <- \n",
    "        dataset$Player[which(dataset$BenchReps == WorstBench)] %>%\n",
    "        as.character()\n",
    "\n",
    "    WorstBenchAthletesCount <- length(WorstBenchAthletes_cv)\n",
    "\n",
    "    WorstBenchAthletes <- \n",
    "        WorstBenchAthletes_cv %>%\n",
    "        paste(collapse = \", \") %>%\n",
    "        stri_replace_last_fixed(\", \", \", and \")\n",
    "\n",
    "    WorstBenchSubtitle <- \n",
    "        paste0(\n",
    "            \"- The lowest number of reps for the benchpress was \",\n",
    "            WorstBench,\n",
    "            \". \",\n",
    "            WorstBenchAthletes,\n",
    "            ifelse(WorstBenchAthletesCount > 1, \" are \", \" is \"),\n",
    "            \"in this group\"\n",
    "        ) %>%\n",
    "        str_wrap(width = 70, exdent = 2)\n"
   ]
  },
  {
   "cell_type": "code",
   "execution_count": 63,
   "metadata": {},
   "outputs": [],
   "source": [
    "BestBench <- max(dataset$BenchReps)\n",
    "\n",
    "BestBenchAthletes_cv <-\n",
    "    dataset$Player[which(dataset$BenchReps == BestBench)] %>%\n",
    "    as.character()\n",
    "    \n",
    "BestBenchAthletesCount <- length(BestBenchAthletes_cv)\n",
    "\n",
    "BestBenchAthletes <- \n",
    "    BestBenchAthletes_cv %>%\n",
    "    paste(collapse = \", \") %>%\n",
    "    stri_replace_last_fixed(\", \", \", and \")\n",
    "\n",
    "BestBenchSubtitle <- \n",
    "    paste0(\n",
    "        \"- The highest number of reps for the benchpress was \",\n",
    "        BestBench,\n",
    "        \". \",\n",
    "        BestBenchAthletes,\n",
    "        ifelse(BestBenchAthletesCount > 1, \" are \", \" is \"),\n",
    "        \"in this group\"\n",
    "    ) %>%\n",
    "    str_wrap(width = 70, exdent = 2)"
   ]
  },
  {
   "cell_type": "code",
   "execution_count": 64,
   "metadata": {},
   "outputs": [],
   "source": [
    "    Worst40YD <- max(dataset$`40YD`)\n",
    "\n",
    "    Worst40YDAthletes_cv <- \n",
    "        dataset$Player[which(dataset$`40YD` == Worst40YD)] %>%\n",
    "        as.character()\n",
    "\n",
    "    Worst40YDAthletesCount <- length(Worst40YDAthletes_cv)\n",
    "\n",
    "    Worst40YDAthletes <- \n",
    "        Worst40YDAthletes_cv %>%\n",
    "        paste(collapse = \", \") %>%\n",
    "        stri_replace_last_fixed(\", \", \", and \")\n",
    "\n",
    "    Worst40YDSubtitle <- \n",
    "        paste0(\n",
    "            \"- The slowest time for the 40YD was \",\n",
    "            Worst40YD,\n",
    "            \". \",\n",
    "            Worst40YDAthletes,\n",
    "            ifelse(Worst40YDAthletesCount > 1, \" are \", \" is \"),\n",
    "            \"in this group\"\n",
    "        ) %>%\n",
    "        str_wrap(width = 70, exdent = 2)"
   ]
  },
  {
   "cell_type": "code",
   "execution_count": 65,
   "metadata": {},
   "outputs": [],
   "source": [
    "    Best40YD <- min(dataset$`40YD`[dataset$`40YD` != 0])\n",
    "\n",
    "    Best40YDAthletes_cv <- \n",
    "        dataset$Player[which(dataset$`40YD` == Best40YD)] %>%\n",
    "        as.character()\n",
    "\n",
    "    Best40YDAthletesCount <- length(Best40YDAthletes_cv)\n",
    "\n",
    "    Best40YDAthletes <- \n",
    "        Best40YDAthletes_cv %>%\n",
    "        paste(collapse = \", \") %>%\n",
    "        stri_replace_last_fixed(\", \", \", and \")\n",
    "\n",
    "    Best40YDSubtitle <- \n",
    "        paste0(\n",
    "            \"- The fastest time for the 40YD was \",\n",
    "            Best40YD,\n",
    "            \". \",\n",
    "            Best40YDAthletes,\n",
    "            ifelse(Best40YDAthletesCount > 1, \" are \", \" is \"),\n",
    "            \"in this group\"\n",
    "        ) %>%\n",
    "        str_wrap(width = 70, exdent = 2)"
   ]
  },
  {
   "cell_type": "markdown",
   "metadata": {},
   "source": [
    "The code below combines all the subtitles elements from above to build the chart title. The line feeds does not print out properly in our Jupyter Notebook but it does in ggplot."
   ]
  },
  {
   "cell_type": "code",
   "execution_count": 66,
   "metadata": {},
   "outputs": [
    {
     "data": {
      "text/html": [
       "<span style=white-space:pre-wrap>'\\n- The highest number of reps for the benchpress was 22. Anthony Miller\\n  is in this group\\n- The lowest number of reps for the benchpress was 8. Jordan Lasley is\\n  in this group\\n- The fastest time for the 40YD was 4.41. Antonio Callaway is in this\\n  group\\n- The slowest time for the 40YD was 4.68. Auden Tate is in this group\\n- Braxton Berrios, and Anthony Miller did not run the 40YD.\\n- Antonio Callaway, Auden Tate, and Javon Wims did not participate in the benchpress.\\n- Deontay Burnett, Daesean Hamilton, Dante Pettis, and Cam Phillips did not participate in either the 40YD or in the benchpress.'</span>"
      ],
      "text/latex": [
       "'\\textbackslash{}n- The highest number of reps for the benchpress was 22. Anthony Miller\\textbackslash{}n  is in this group\\textbackslash{}n- The lowest number of reps for the benchpress was 8. Jordan Lasley is\\textbackslash{}n  in this group\\textbackslash{}n- The fastest time for the 40YD was 4.41. Antonio Callaway is in this\\textbackslash{}n  group\\textbackslash{}n- The slowest time for the 40YD was 4.68. Auden Tate is in this group\\textbackslash{}n- Braxton Berrios, and Anthony Miller did not run the 40YD.\\textbackslash{}n- Antonio Callaway, Auden Tate, and Javon Wims did not participate in the benchpress.\\textbackslash{}n- Deontay Burnett, Daesean Hamilton, Dante Pettis, and Cam Phillips did not participate in either the 40YD or in the benchpress.'"
      ],
      "text/markdown": [
       "<span style=white-space:pre-wrap>'\\n- The highest number of reps for the benchpress was 22. Anthony Miller\\n  is in this group\\n- The lowest number of reps for the benchpress was 8. Jordan Lasley is\\n  in this group\\n- The fastest time for the 40YD was 4.41. Antonio Callaway is in this\\n  group\\n- The slowest time for the 40YD was 4.68. Auden Tate is in this group\\n- Braxton Berrios, and Anthony Miller did not run the 40YD.\\n- Antonio Callaway, Auden Tate, and Javon Wims did not participate in the benchpress.\\n- Deontay Burnett, Daesean Hamilton, Dante Pettis, and Cam Phillips did not participate in either the 40YD or in the benchpress.'</span>"
      ],
      "text/plain": [
       "[1] \"\\n- The highest number of reps for the benchpress was 22. Anthony Miller\\n  is in this group\\n- The lowest number of reps for the benchpress was 8. Jordan Lasley is\\n  in this group\\n- The fastest time for the 40YD was 4.41. Antonio Callaway is in this\\n  group\\n- The slowest time for the 40YD was 4.68. Auden Tate is in this group\\n- Braxton Berrios, and Anthony Miller did not run the 40YD.\\n- Antonio Callaway, Auden Tate, and Javon Wims did not participate in the benchpress.\\n- Deontay Burnett, Daesean Hamilton, Dante Pettis, and Cam Phillips did not participate in either the 40YD or in the benchpress.\""
      ]
     },
     "metadata": {},
     "output_type": "display_data"
    }
   ],
   "source": [
    "chartsubtitle <-\n",
    "    paste0(\n",
    "        ifelse(BestBenchAthletesCount == 0,\"\",paste0(\"\\n\", BestBenchSubtitle)),\n",
    "        ifelse(WorstBenchAthletesCount == 0,\"\",paste0(\"\\n\", WorstBenchSubtitle)),\n",
    "        ifelse(Best40YDAthletesCount == 0,\"\",paste0(\"\\n\", Best40YDSubtitle)),\n",
    "        ifelse(Worst40YDAthletesCount == 0,\"\",paste0(\"\\n\", Worst40YDSubtitle)),\n",
    "        ifelse(No40YDSubtitleHaveAthletes == \"Y\",paste0(\"\\n\", No40YDSubtitle),\"\"),\n",
    "        ifelse(NoBenchPressSubtitleHaveAthletes == \"Y\",paste0(\"\\n\", NoBenchPressSubtitle),\"\"),\n",
    "        ifelse(No40YDAndBenchPressSubtitleHaveAthletes == \"Y\",paste0(\"\\n\", No40YDAndBenchPressSubtitle),\"\")\n",
    "    )\n",
    "chartsubtitle"
   ]
  },
  {
   "cell_type": "markdown",
   "metadata": {},
   "source": [
    "The code below sets the variable that will be used to show the data source that we used in the chart."
   ]
  },
  {
   "cell_type": "code",
   "execution_count": 67,
   "metadata": {},
   "outputs": [],
   "source": [
    "    chart_source <- \"Source:  https://www.pro-football-reference.com\""
   ]
  },
  {
   "cell_type": "markdown",
   "metadata": {},
   "source": [
    "This is what our chart looks like before the titles, subtitles, and caption"
   ]
  },
  {
   "cell_type": "code",
   "execution_count": 68,
   "metadata": {},
   "outputs": [
    {
     "data": {},
     "metadata": {},
     "output_type": "display_data"
    },
    {
     "data": {
      "image/png": "[encoded data removed]",
      "text/plain": [
       "plot without title"
      ]
     },
     "metadata": {},
     "output_type": "display_data",
     "source": "R display func"
    }
   ],
   "source": [
    "options(repr.plot.width=7, repr.plot.height=4)\n",
    "p"
   ]
  },
  {
   "cell_type": "markdown",
   "metadata": {},
   "source": [
    "This is what our chart looks like after we had the title, subtitle, and caption via the *labs* function"
   ]
  },
  {
   "cell_type": "code",
   "execution_count": 69,
   "metadata": {},
   "outputs": [
    {
     "data": {},
     "metadata": {},
     "output_type": "display_data"
    },
    {
     "data": {
      "image/png": "[encoded data removed]",
      "text/plain": [
       "plot without title"
      ]
     },
     "metadata": {},
     "output_type": "display_data",
     "source": "R display func"
    }
   ],
   "source": [
    "options(repr.plot.width=9, repr.plot.height=6)\n",
    "p <- p +\n",
    "     labs(\n",
    "         title = chart.title, \n",
    "         subtitle = chartsubtitle, \n",
    "         caption = chart_source\n",
    "     )\n",
    "p"
   ]
  },
  {
   "cell_type": "markdown",
   "metadata": {},
   "source": [
    "Finally we center the chart title, change the font size of the chart title, change the font size of our subtitles, create a border around our chart, and position our **x** and **y** axis titles towards the lower left corner of our graph, resize our "
   ]
  },
  {
   "cell_type": "code",
   "execution_count": 70,
   "metadata": {},
   "outputs": [
    {
     "data": {},
     "metadata": {},
     "output_type": "display_data"
    },
    {
     "data": {
      "image/png": "[encoded data removed]",
      "text/plain": [
       "plot without title"
      ]
     },
     "metadata": {},
     "output_type": "display_data",
     "source": "R display func"
    }
   ],
   "source": [
    "options(repr.plot.width=9, repr.plot.height=6)\n",
    "p <- p +\n",
    "     theme(\n",
    "          plot.title = element_text(hjust = 0.5, size = 25)\n",
    "        , plot.subtitle = element_text(size = 15) \n",
    "        , panel.border = element_rect(colour = \"black\", size = 2, fill = NA)\n",
    "        , axis.title.x = element_text(hjust = 0.1, size = 18)\n",
    "        , axis.title.y = element_text(hjust = 0.1, size = 18)\n",
    "     )\n",
    "p"
   ]
  },
  {
   "cell_type": "code",
   "execution_count": null,
   "metadata": {},
   "outputs": [],
   "source": [
    "library(tidyverse)\n",
    "library(ggrepel)\n",
    "library(ggthemes)\n",
    "library(scales)\n",
    "library(stringi)\n",
    "\n",
    "if (length(unique(dataset$Year)) == 1 & length(unique(dataset$`Position Group`)) == 1) {\n",
    "  \n",
    "    selected_position <- unique(dataset$`Position Group`)\n",
    "    chart.title <- paste(min(dataset$Year), \"Combine Quad Chart for\", selected_position, sep = \" \")\n",
    "\n",
    "    No40YDSubtitle <- \n",
    "        as.character(dataset$Player[which(dataset$`40YD` == 0 & dataset$BenchReps != 0)]) %>%\n",
    "        paste(collapse = \", \") %>%\n",
    "        stri_replace_last_fixed(\", \", \", and \") %>%\n",
    "        paste0(\"- \", .,\" did not run the 40YD.\") %>%\n",
    "        str_wrap(width = 140, exdent = 2)\n",
    "    No40YDSubtitleHaveAthletes <-\n",
    "        length(dataset$Player[which(dataset$`40YD` == 0 & dataset$BenchReps != 0)]) %>%\n",
    "        {ifelse(. > 0, \"Y\", \"N\")}\n",
    "    \n",
    "    NoBenchPressSubtitle <- \n",
    "        as.character(dataset$Player[which(dataset$`40YD` != 0 & dataset$BenchReps == 0)]) %>%\n",
    "        paste(collapse = \", \") %>%\n",
    "        stri_replace_last_fixed(\", \", \", and \") %>%\n",
    "        paste0(\"- \", .,\" did not participate in the benchpress.\") %>%\n",
    "        str_wrap(width = 140, exdent = 2)\n",
    "    NoBenchPressSubtitleHaveAthletes <- \n",
    "        length(dataset$Player[which(dataset$`40YD` != 0 & dataset$BenchReps == 0)]) %>%\n",
    "        {ifelse(. > 0, \"Y\", \"N\")}\n",
    "    \n",
    "    No40YDAndBenchPressSubtitle <- \n",
    "        as.character(dataset$Player[which(dataset$`40YD` == 0 & dataset$BenchReps == 0)]) %>%\n",
    "        paste(collapse = \", \") %>%\n",
    "        stri_replace_last_fixed(\", \", \", and \") %>%\n",
    "        paste0(\"- \", .,\" did not participate in either the 40YD or in the benchpress.\") %>%\n",
    "        str_wrap(width = 140, exdent = 2)\n",
    "    No40YDAndBenchPressSubtitleHaveAthletes <- \n",
    "        length(dataset$Player[which(dataset$`40YD` == 0 & dataset$BenchReps == 0)]) %>%\n",
    "        {ifelse(. > 0, \"Y\", \"N\")}\n",
    "\n",
    "    graph_data <-\n",
    "        dataset %>%\n",
    "        filter(`40YD` != 0 & BenchReps != 0) %>%\n",
    "        mutate(\n",
    "            Scaled.40YD = \n",
    "                round(rescale(`40YD` * -1, to = c(-10, 10)), 1)\n",
    "            ,Scaled.BenchReps = \n",
    "                round(rescale(BenchReps, to = c(-10, 10)), 1)\n",
    "        )\n",
    "\n",
    "    BestBench <- max(dataset$BenchReps)\n",
    "    BestBenchAthletes_cv <- as.character(dataset$Player[which(dataset$BenchReps == BestBench)])\n",
    "    BestBenchAthletesCount <- length(BestBenchAthletes_cv)\n",
    "    BestBenchAthletes <- \n",
    "        BestBenchAthletes_cv %>%\n",
    "        paste(collapse = \", \") %>%\n",
    "        stri_replace_last_fixed(\", \", \", and \")\n",
    "    BestBenchSubtitle <- \n",
    "        paste0(\n",
    "            \"- The highest number of reps for the benchpress was \",\n",
    "            BestBench,\n",
    "            \". \",\n",
    "            BestBenchAthletes,\n",
    "            ifelse(BestBenchAthletesCount > 1, \" are \", \" is \"),\n",
    "            \"in this group\"\n",
    "        ) %>%\n",
    "        str_wrap(width = 140, exdent = 2)\n",
    "\n",
    "    WorstBench <- min(dataset$BenchReps[dataset$BenchReps != 0])   \n",
    "    WorstBenchAthletes_cv <- as.character(dataset$Player[which(dataset$BenchReps == WorstBench)])\n",
    "    WorstBenchAthletesCount <- length(WorstBenchAthletes_cv)\n",
    "    WorstBenchAthletes <- \n",
    "        WorstBenchAthletes_cv %>%\n",
    "        paste(collapse = \", \") %>%\n",
    "        stri_replace_last_fixed(\", \", \", and \")\n",
    "    WorstBenchSubtitle <- \n",
    "        paste0(\n",
    "            \"- The lowest number of reps for the benchpress was \",\n",
    "            WorstBench,\n",
    "            \". \",\n",
    "            WorstBenchAthletes,\n",
    "            ifelse(WorstBenchAthletesCount > 1, \" are \", \" is \"),\n",
    "            \"in this group\"\n",
    "        ) %>%\n",
    "        str_wrap(width = 140, exdent = 2)\n",
    "\n",
    "    Best40YD <- min(dataset$`40YD`[dataset$`40YD` != 0])\n",
    "    Best40YDAthletes_cv <- as.character(dataset$Player[which(dataset$`40YD` == Best40YD)])\n",
    "    Best40YDAthletesCount <- length(Best40YDAthletes_cv)\n",
    "    Best40YDAthletes <- \n",
    "        Best40YDAthletes_cv %>%\n",
    "        paste(collapse = \", \") %>%\n",
    "        stri_replace_last_fixed(\", \", \", and \")\n",
    "    Best40YDSubtitle <- \n",
    "        paste0(\n",
    "            \"- The fastest time for the 40YD was \",\n",
    "            Best40YD,\n",
    "            \". \",\n",
    "            Best40YDAthletes,\n",
    "            ifelse(Best40YDAthletesCount > 1, \" are \", \" is \"),\n",
    "            \"in this group\"\n",
    "        ) %>%\n",
    "        str_wrap(width = 140, exdent = 2)\n",
    "\n",
    "    Worst40YD <- max(dataset$`40YD`)\n",
    "    Worst40YDAthletes_cv <- as.character(dataset$Player[which(dataset$`40YD` == Worst40YD)])\n",
    "    Worst40YDAthletesCount <- length(Worst40YDAthletes_cv)\n",
    "    Worst40YDAthletes <- \n",
    "        Worst40YDAthletes_cv %>%\n",
    "        paste(collapse = \", \") %>%\n",
    "        stri_replace_last_fixed(\", \", \", and \")\n",
    "    Worst40YDSubtitle <- \n",
    "        paste0(\n",
    "            \"- The slowest time for the 40YD was \",\n",
    "            Worst40YD,\n",
    "            \". \",\n",
    "            Worst40YDAthletes,\n",
    "            ifelse(Worst40YDAthletesCount > 1, \" are \", \" is \"),\n",
    "            \"in this group\"\n",
    "        ) %>%\n",
    "        str_wrap(width = 140, exdent = 2)\n",
    "    \n",
    "    chartsubtitle <-\n",
    "            paste0(\n",
    "                ifelse(BestBenchAthletesCount == 0,\"\",paste0(\"\\n\", BestBenchSubtitle)),\n",
    "                ifelse(WorstBenchAthletesCount == 0,\"\",paste0(\"\\n\", WorstBenchSubtitle)),\n",
    "                ifelse(Best40YDAthletesCount == 0,\"\",paste0(\"\\n\", Best40YDSubtitle)),\n",
    "                ifelse(Worst40YDAthletesCount == 0,\"\",paste0(\"\\n\", Worst40YDSubtitle)),\n",
    "                ifelse(No40YDSubtitleHaveAthletes == \"Y\",paste0(\"\\n\", No40YDSubtitle),\"\"),\n",
    "                ifelse(NoBenchPressSubtitleHaveAthletes == \"Y\",paste0(\"\\n\", NoBenchPressSubtitle),\"\"),\n",
    "                ifelse(No40YDAndBenchPressSubtitleHaveAthletes == \"Y\",paste0(\"\\n\", No40YDAndBenchPressSubtitle),\"\")\n",
    "            )\n",
    "    \n",
    "    chart_source <- \"Source:  https://www.pro-football-reference.com\"\n",
    "\n",
    "    p <- ggplot(graph_data, aes(x = Scaled.BenchReps, y = Scaled.40YD, col = Position)) +\n",
    "         geom_point() +\n",
    "         geom_label_repel(aes(label = Player), size = 4, show.legend = FALSE) +\n",
    "         geom_hline(yintercept = 0) +\n",
    "         geom_vline(xintercept = 0) +\n",
    "\n",
    "         # Squares for quad labels\n",
    "         annotate(\"rect\", xmin = -3.5, xmax = -6.5, ymin = -11.5, ymax = -10.5, fill = \"grey80\") +\n",
    "         annotate(\"rect\", xmin = -3.5, xmax = -6.5, ymin = 10.5, ymax = 11.5, fill = \"grey80\") +\n",
    "         annotate(\"rect\", xmin = 3.5, xmax = 6.5, ymin = -11.5, ymax = -10.5, fill = \"grey80\") +\n",
    "         annotate(\"rect\", xmin = 3.5, xmax = 6.5, ymin = 10.5, ymax = 11.5, fill = \"grey80\") +\n",
    "    \n",
    "         # quad labels\n",
    "         annotate(\"text\", x = -5, y = -11, label = \"Average\", color = \"white\", size = 6) +\n",
    "         annotate(\"text\", x = -5, y = 11, label = \"Fast\", color = \"white\", size = 6) +\n",
    "         annotate(\"text\", x = 5, y = -11, label = \"Strong\", color = \"white\", size = 6) +\n",
    "         annotate(\"text\", x = 5, y = 11, label = \"Beast Mode\", color = \"white\", size = 6) +\n",
    "\n",
    "         # Shade lower left quadrant\n",
    "         annotate(\"rect\", xmin = -Inf, xmax = 0.0, ymin = -Inf, ymax = 0, alpha = 0.1, fill = \"lightgrey\") +\n",
    "        \n",
    "         # Shade upper right quadrant\n",
    "         annotate(\"rect\", xmin = 0.0, xmax = Inf, ymin = 0.0, ymax = Inf, alpha = 0.1, fill = \"lightgrey\") +\n",
    "        \n",
    "         # Titles\n",
    "         xlab(bquote(\"Strength\" ~ symbol('\\256'))) +\n",
    "         ylab(bquote(\"Speed\" ~ symbol('\\256'))) +\n",
    "         #ggtitle(chart.title, subtitle = chartsubtitle) +\n",
    "         labs(title = chart.title, subtitle = chartsubtitle, caption = chart_source) +\n",
    "\n",
    "         # Prettying things up\n",
    "         theme_tufte() +\n",
    "         theme(\n",
    "              plot.title = element_text(hjust = 0.5, size = 25)\n",
    "            , plot.subtitle = element_text(size = 15) \n",
    "            , panel.border = element_rect(colour = \"black\", size = 2, fill = NA)\n",
    "            , axis.title.x = element_text(hjust = 0.1, size = 18)\n",
    "            , axis.title.y = element_text(hjust = 0.1, size = 18)\n",
    "         ) +\n",
    "         scale_x_continuous(labels = NULL, breaks = NULL) +\n",
    "         scale_y_continuous(labels = NULL, breaks = NULL) \n",
    "    \n",
    "         p\n",
    "\n",
    "} else {\n",
    "    p <- ggplot(dataset, aes(x = BenchReps, y = `40YD`)) +\n",
    "         geom_blank() +\n",
    "         scale_x_continuous(\n",
    "              labels = NULL\n",
    "            , breaks = NULL\n",
    "        ) +\n",
    "         scale_y_continuous(\n",
    "              labels = NULL\n",
    "            , breaks = NULL\n",
    "         ) +\n",
    "         labs(x = NULL, y = NULL) +\n",
    "         theme_classic()\n",
    "    p\n",
    "}"
   ]
  }
 ],
 "metadata": {
  "kernelspec": {
   "display_name": "R",
   "language": "R",
   "name": "ir"
  },
  "language_info": {
   "codemirror_mode": "r",
   "file_extension": ".r",
   "mimetype": "text/x-r-source",
   "name": "R",
   "pygments_lexer": "r",
   "version": "3.5.1"
  }
 },
 "nbformat": 4,
 "nbformat_minor": 2
}
